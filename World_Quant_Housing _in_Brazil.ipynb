{
 "cells": [
  {
   "cell_type": "markdown",
   "id": "387b0193",
   "metadata": {},
   "source": [
    "### Intro to Pandas for Data Analysis /World Quant Housing in Brazil"
   ]
  },
  {
   "cell_type": "code",
   "execution_count": null,
   "id": "d43c086d",
   "metadata": {},
   "outputs": [],
   "source": [
    "Introduction\n",
    "\n",
    "This project is inspired by WorldQuant University's Applied Data Science Lab course. It is being hosted on DataWars with their permission. Please refer to their course for more details.\n",
    "In this project, you'll work with a dataset of homes for sale in Brazil. You'll need to perform different Data Analysis tasks to discover if there are regional differences in the real estate market. Also, you will look at southern Brazil region to see if there is a relationship between home size and price, similar to what you saw with housing in some states in Mexico.\n",
    "\n",
    "Let's get started!"
   ]
  },
  {
   "cell_type": "code",
   "execution_count": 32,
   "id": "35088a95",
   "metadata": {},
   "outputs": [],
   "source": [
    "# Import Matplotlib, pandas\n",
    "\n",
    "import pandas as pd\n",
    "import matplotlib.pyplot as plt\n",
    "import plotly.express as px"
   ]
  },
  {
   "cell_type": "code",
   "execution_count": null,
   "id": "d6eadd64",
   "metadata": {},
   "outputs": [],
   "source": [
    "Import dataset\n",
    "\n",
    "df1 = pd.read_csv(\"Brasile-real-estate-dataset.csv\")\n",
    "df1"
   ]
  },
  {
   "cell_type": "code",
   "execution_count": null,
   "id": "73ee9bf4",
   "metadata": {},
   "outputs": [],
   "source": [
    "# Display the first 5 rows of the DataFrame\n",
    "df1.head()"
   ]
  },
  {
   "cell_type": "markdown",
   "id": "c1e9afc1",
   "metadata": {},
   "source": [
    "Preparing Data \n",
    "Activity 1. Load the CSV File into a DataFrame¶"
   ]
  },
  {
   "cell_type": "code",
   "execution_count": null,
   "id": "2c0d2428",
   "metadata": {},
   "outputs": [],
   "source": [
    "df1.info()"
   ]
  },
  {
   "cell_type": "code",
   "execution_count": null,
   "id": "fbec5518",
   "metadata": {},
   "outputs": [],
   "source": [
    "df1.describe().T"
   ]
  },
  {
   "cell_type": "code",
   "execution_count": 24,
   "id": "aa3efaed",
   "metadata": {},
   "outputs": [
    {
     "data": {
      "text/plain": [
       "(10692, 13)"
      ]
     },
     "execution_count": 24,
     "metadata": {},
     "output_type": "execute_result"
    }
   ],
   "source": [
    "df1.shape"
   ]
  },
  {
   "cell_type": "code",
   "execution_count": null,
   "id": "9a14c5f8",
   "metadata": {},
   "outputs": [],
   "source": [
    "df1.columns"
   ]
  },
  {
   "cell_type": "code",
   "execution_count": 31,
   "id": "9bcb56c7",
   "metadata": {},
   "outputs": [
    {
     "data": {
      "text/plain": [
       "(10692, 13)"
      ]
     },
     "execution_count": 31,
     "metadata": {},
     "output_type": "execute_result"
    }
   ],
   "source": [
    "df1.shape"
   ]
  },
  {
   "cell_type": "code",
   "execution_count": null,
   "id": "fcd8ff5c",
   "metadata": {},
   "outputs": [],
   "source": [
    "df1.isnull().sum"
   ]
  },
  {
   "cell_type": "code",
   "execution_count": null,
   "id": "2e700b50",
   "metadata": {},
   "outputs": [],
   "source": [
    "Activity 2. Removing NaN Values from a DataFrame"
   ]
  },
  {
   "cell_type": "code",
   "execution_count": 28,
   "id": "b6065dbf",
   "metadata": {},
   "outputs": [],
   "source": [
    "df1.dropna(inplace=True)"
   ]
  },
  {
   "cell_type": "code",
   "execution_count": 29,
   "id": "758b6d68",
   "metadata": {},
   "outputs": [
    {
     "data": {
      "text/plain": [
       "(10692, 13)"
      ]
     },
     "execution_count": 29,
     "metadata": {},
     "output_type": "execute_result"
    }
   ],
   "source": [
    "df1.shape"
   ]
  },
  {
   "cell_type": "markdown",
   "id": "da1ce83b",
   "metadata": {},
   "source": [
    "###Activity 3. Creating Latitude and Longitude Columns from a Single Column"
   ]
  },
  {
   "cell_type": "code",
   "execution_count": null,
   "id": "ac05f4a1",
   "metadata": {},
   "outputs": [],
   "source": [
    "# Write your code here \n",
    "df1 = pd.concat([df1, df1['lat-lon'].str.split(',', expand=True). rename(columns={0: 'lat', 1: 'lon'})], axis=1)"
   ]
  },
  {
   "cell_type": "code",
   "execution_count": null,
   "id": "25d718a9",
   "metadata": {},
   "outputs": [],
   "source": [
    "df1['lat'] = pd.to_numeric(df1['lat'])\n",
    "df1['lon'] = pd.to_numeric(df1['lon'])"
   ]
  },
  {
   "cell_type": "code",
   "execution_count": null,
   "id": "cae2ae0c",
   "metadata": {},
   "outputs": [],
   "source": []
  },
  {
   "cell_type": "code",
   "execution_count": null,
   "id": "58288224",
   "metadata": {},
   "outputs": [],
   "source": [
    "df1[['lat', 'lon']] = df1['lat-lon'].str.split(',', expand=True)\n",
    "\n",
    "# Converting the 'lat' and 'lon' columns to numeric values.\n",
    "df1['lat'] = pd.to_numeric(df1['lat'])\n",
    "df1['lon'] = pd.to_numeric(df1['lon'])\n"
   ]
  },
  {
   "cell_type": "markdown",
   "id": "42f5642f",
   "metadata": {},
   "source": [
    "Activity 4. Creating a 'State' Column from the 'place_with_parent_names' Column"
   ]
  },
  {
   "cell_type": "code",
   "execution_count": null,
   "id": "8aa6c34b",
   "metadata": {},
   "outputs": [],
   "source": [
    "df1['state'] = df1 [\"place_with_parent_names\"].str.split ('|').str[2]"
   ]
  },
  {
   "cell_type": "markdown",
   "id": "53617c77",
   "metadata": {},
   "source": [
    "Activity 5. Transform the 'price_usd' Column to Float Data Type"
   ]
  },
  {
   "cell_type": "code",
   "execution_count": null,
   "id": "716e5be4",
   "metadata": {},
   "outputs": [],
   "source": [
    "# Write your code here\n",
    "\n",
    "# First, remove the dollar sign from the 'price_usd' column.\n",
    "df1['price_usd'] = df1['price_usd'].str.replace('$', '')\n",
    "\n",
    "# Next, remove `,` from the 'price_usd' column.\n",
    "df1['price_usd'] = df1['price_usd'].str.replace(',', '')\n",
    "\n",
    "# Converting the 'price_usd' column to numeric values.\n",
    "# This is necessary because the column contains string values, and for further numerical operations, we need them as floats or integers.\n",
    "df1['price_usd'] = pd.to_numeric(df1['price_usd'])"
   ]
  },
  {
   "cell_type": "markdown",
   "id": "e88523a7",
   "metadata": {},
   "source": [
    "Activity 6. Remove Unwanted Columns from a DataFrame"
   ]
  },
  {
   "cell_type": "markdown",
   "id": "3c256dab",
   "metadata": {},
   "source": [
    "Drop the \"lat-lon\" and \"place_with_parent_names\" columns, a crucial step for data cleaning and preparation, ensuring your dataset is optimized for analysis and visualization tasks."
   ]
  },
  {
   "cell_type": "code",
   "execution_count": null,
   "id": "670b7ce5",
   "metadata": {},
   "outputs": [],
   "source": [
    "df1.drop(columns=[\"lat_lon\",\"place_with_parent_names\"],inplace=True)"
   ]
  },
  {
   "cell_type": "code",
   "execution_count": null,
   "id": "8f157d7f",
   "metadata": {},
   "outputs": [],
   "source": []
  },
  {
   "cell_type": "code",
   "execution_count": null,
   "id": "ae20962e",
   "metadata": {},
   "outputs": [],
   "source": [
    "df1.drop(['lat-lon', 'place_with_parent_names'],axis=1,inplace=True)"
   ]
  },
  {
   "cell_type": "code",
   "execution_count": null,
   "id": "8f8bfdb3",
   "metadata": {},
   "outputs": [],
   "source": []
  },
  {
   "cell_type": "code",
   "execution_count": null,
   "id": "9342b8c8",
   "metadata": {},
   "outputs": [],
   "source": [
    "Activity 7. Load the CSV File into a DataFrame"
   ]
  },
  {
   "cell_type": "code",
   "execution_count": null,
   "id": "f77d593b",
   "metadata": {},
   "outputs": [],
   "source": [
    "# Read the `brazil_housing_2.csv` file into a DataFrame called `df2`\n",
    "# Read the `brazil_housing_2.csv` file into a DataFrame called `df2`\n",
    "df2 = pd.read_csv(\"brazil_housing_2.csv\")\n",
    "\n",
    "# Display the first 5 rows of the DataFrame\n",
    "df2.head()"
   ]
  },
  {
   "cell_type": "code",
   "execution_count": null,
   "id": "72168fb8",
   "metadata": {},
   "outputs": [],
   "source": [
    "Activity 8. Create a USD Price Column from BRL Values"
   ]
  },
  {
   "cell_type": "code",
   "execution_count": null,
   "id": "e71a9bcd",
   "metadata": {},
   "outputs": [],
   "source": [
    "# Converting the 'price_brl' column to USD using the historical exchange rate of 1 USD to 3.19 BRL.\n",
    "df2['price_usd'] = df2['price_brl'] / 3.19"
   ]
  },
  {
   "cell_type": "code",
   "execution_count": null,
   "id": "51e5c6d5",
   "metadata": {},
   "outputs": [],
   "source": []
  },
  {
   "cell_type": "code",
   "execution_count": null,
   "id": "05ce5462",
   "metadata": {},
   "outputs": [],
   "source": [
    "Activity 9. Remove a Column and NaN Rows from a DataFrame"
   ]
  },
  {
   "cell_type": "code",
   "execution_count": null,
   "id": "355b20c7",
   "metadata": {},
   "outputs": [],
   "source": [
    "# Write your code here\n",
    "# Drop the 'price_brl' column from the DataFrame.\n",
    "df2.drop(['price_brl'], axis=1, inplace=True)\n",
    "\n",
    "# Drop NaN values from the DataFrame.\n",
    "df2.dropna(inplace=True)"
   ]
  },
  {
   "cell_type": "code",
   "execution_count": null,
   "id": "3dbc3c05",
   "metadata": {},
   "outputs": [],
   "source": []
  },
  {
   "cell_type": "code",
   "execution_count": null,
   "id": "fbd117ff",
   "metadata": {},
   "outputs": [],
   "source": [
    "Activity 10. Merge Two DataFrames into One"
   ]
  },
  {
   "cell_type": "code",
   "execution_count": null,
   "id": "04af64f7",
   "metadata": {},
   "outputs": [],
   "source": [
    "# Concatenate the two DataFrames, df1 and df2, into a new DataFrame called df.\n",
    "df = pd.concat([df1, df2])\n",
    "\n",
    "# Display the first 5 rows of the new DataFrame.\n",
    "df.head()"
   ]
  },
  {
   "cell_type": "code",
   "execution_count": null,
   "id": "35c89c1e",
   "metadata": {},
   "outputs": [],
   "source": []
  },
  {
   "cell_type": "code",
   "execution_count": null,
   "id": "7a7dcb8c",
   "metadata": {},
   "outputs": [],
   "source": [
    "Explore"
   ]
  },
  {
   "cell_type": "code",
   "execution_count": null,
   "id": "bf67c677",
   "metadata": {},
   "outputs": [],
   "source": [
    "import plotly.express as px\n",
    "\n",
    "fig = px.scatter_mapbox(\n",
    "    df,\n",
    "    lat=\"lat\",\n",
    "    lon=\"lon\",\n",
    "    center={\"lat\": -14.2, \"lon\": -51.9},  # Map will be centered on Brazil\n",
    "    width=600,\n",
    "    height=600,\n",
    "    hover_data=[\"price_usd\"],  # Display price when hovering mouse over house\n",
    ")\n",
    "\n",
    "fig.update_layout(mapbox_style=\"open-street-map\")\n",
    "\n",
    "fig.show()"
   ]
  },
  {
   "cell_type": "code",
   "execution_count": null,
   "id": "f30ce1b0",
   "metadata": {},
   "outputs": [],
   "source": []
  },
  {
   "cell_type": "code",
   "execution_count": null,
   "id": "980413e7",
   "metadata": {},
   "outputs": [],
   "source": [
    "Activity 11. Creating Summary Statistics for Selected Columns"
   ]
  },
  {
   "cell_type": "code",
   "execution_count": null,
   "id": "a5b746b2",
   "metadata": {},
   "outputs": [],
   "source": [
    "# Generate summary statistics for the 'area_m2' and 'price_usd' columns.\n",
    "summary_stats = df[['area_m2', 'price_usd']].describe()\n",
    "\n",
    "# Display the summary statistics DataFrame.\n",
    "summary_stats"
   ]
  },
  {
   "cell_type": "code",
   "execution_count": null,
   "id": "00f1696f",
   "metadata": {},
   "outputs": [],
   "source": []
  },
  {
   "cell_type": "code",
   "execution_count": null,
   "id": "ccf3ad08",
   "metadata": {},
   "outputs": [],
   "source": [
    "Activity 12. Visualizing the Distribution of Home Prices with a Histogram"
   ]
  },
  {
   "cell_type": "code",
   "execution_count": null,
   "id": "cbb8fe1f",
   "metadata": {},
   "outputs": [],
   "source": [
    "# Set the figure size for the plot.\n",
    "fig, ax = plt.subplots(figsize=(10, 6))\n",
    "\n",
    "# Create a histogram of the 'price_usd' column.\n",
    "ax.hist(df['price_usd'])\n",
    "\n",
    "# Add labels and title to the plot.\n",
    "ax.set_xlabel('Price [USD]')\n",
    "ax.set_ylabel('Frequency')\n",
    "ax.set_title('Distribution of Home Prices')\n"
   ]
  },
  {
   "cell_type": "code",
   "execution_count": null,
   "id": "9074970b",
   "metadata": {},
   "outputs": [],
   "source": []
  },
  {
   "cell_type": "code",
   "execution_count": null,
   "id": "429fa711",
   "metadata": {},
   "outputs": [],
   "source": [
    "Activity 13. Visualizing the Distribution of Home Sizes with a Horizontal Boxplot"
   ]
  },
  {
   "cell_type": "code",
   "execution_count": null,
   "id": "e9cf00f3",
   "metadata": {},
   "outputs": [],
   "source": [
    "# Set the figure size for the plot.\n",
    "fig, ax = plt.subplots(figsize=(10, 6))\n",
    "\n",
    "# Create a horizontal boxplot of the 'area_m2' column.\n",
    "ax.boxplot(df['area_m2'], vert=False)\n",
    "\n",
    "# Add labels and title to the plot.\n",
    "ax.set_xlabel('Area [sq meters]')\n",
    "ax.set_title('Distribution of Home Sizes')\n"
   ]
  },
  {
   "cell_type": "code",
   "execution_count": null,
   "id": "0f36df9f",
   "metadata": {},
   "outputs": [],
   "source": []
  },
  {
   "cell_type": "code",
   "execution_count": null,
   "id": "efc99b06",
   "metadata": {},
   "outputs": [],
   "source": [
    "Activity 14. Grouping Data to Calculate Mean Home Prices by Region"
   ]
  },
  {
   "cell_type": "markdown",
   "id": "a789ee98",
   "metadata": {},
   "source": [
    "Use the pandas groupby method to create a Series named mean_price_by_region, which represents the average home price in each region in Brazil, sorted from smallest to largest. Learn the process of aggregating data to uncover regional price trends, followed by sorting the results from the smallest to the largest mean price. This analysis is crucial for understanding geographical influences on property values and making informed decisions based on regional market conditions."
   ]
  },
  {
   "cell_type": "code",
   "execution_count": null,
   "id": "aeb236c3",
   "metadata": {},
   "outputs": [],
   "source": [
    "# Group the data by the 'state' column and calculate the mean price for each region in Brazil.\n",
    "mean_price_by_region = df.groupby(\"region\")[\"price_usd\"].mean().sort_values()\n",
    "\n",
    "# Display the mean price by region.\n",
    "mean_price_by_region"
   ]
  },
  {
   "cell_type": "code",
   "execution_count": null,
   "id": "f523c339",
   "metadata": {},
   "outputs": [],
   "source": []
  },
  {
   "cell_type": "code",
   "execution_count": null,
   "id": "fdd4a7b9",
   "metadata": {},
   "outputs": [],
   "source": [
    "Activity 15. Create a Bar Chart of Mean Home Prices by Region"
   ]
  },
  {
   "cell_type": "code",
   "execution_count": null,
   "id": "50f9c283",
   "metadata": {},
   "outputs": [],
   "source": [
    "# Set the figure size for the plot.\n",
    "fig, ax = plt.subplots(figsize=(10, 6))\n",
    "\n",
    "# Create a bar chart of the mean home prices by region.\n",
    "mean_price_by_region.plot(kind=\"bar\",x=\"Region\",y=\"Mean Price [USD]\",title=\"Mean Home Price by Region\",ax=ax)"
   ]
  },
  {
   "cell_type": "code",
   "execution_count": null,
   "id": "f72b494a",
   "metadata": {},
   "outputs": [],
   "source": [
    "# Set the figure size for the plot.\n",
    "fig, ax = plt.subplots(figsize=(10, 6))\n",
    "\n",
    "# Create a bar chart of the mean home prices by region.\n",
    "mean_price_by_region.plot(kind='bar', ax=ax)\n",
    "\n",
    "# Add labels and title to the plot.\n",
    "ax.set_xlabel('Region')\n",
    "ax.set_ylabel('Mean Price [USD]')\n",
    "ax.set_title('Mean Home Price by Region')"
   ]
  },
  {
   "cell_type": "code",
   "execution_count": null,
   "id": "c9c1a24e",
   "metadata": {},
   "outputs": [],
   "source": []
  },
  {
   "cell_type": "code",
   "execution_count": null,
   "id": "69847605",
   "metadata": {},
   "outputs": [],
   "source": [
    "Activity 16. Filtering Data by Region in a DataFrame"
   ]
  },
  {
   "cell_type": "markdown",
   "id": "2c58ea08",
   "metadata": {},
   "source": [
    "Extract all the homes located in the \"South\" region. You will create a new DataFrame named df_south containing only these homes. This activity will teach you how to apply conditional filtering in pandas, an essential skill for data analysis, allowing you to focus on specific segments of your data for more detailed examination."
   ]
  },
  {
   "cell_type": "code",
   "execution_count": null,
   "id": "8687fd12",
   "metadata": {},
   "outputs": [],
   "source": [
    "# Filter the data to include only homes located in the 'South' region.\n",
    "df_south = df[df[\"region\"]==\"South\"]\n",
    "\n",
    "# Display the first 5 rows of the new DataFrame.\n",
    "df_south.head()"
   ]
  },
  {
   "cell_type": "code",
   "execution_count": null,
   "id": "46d27f81",
   "metadata": {},
   "outputs": [],
   "source": []
  },
  {
   "cell_type": "markdown",
   "id": "8b92634c",
   "metadata": {},
   "source": [
    "Activity 17. Counting Properties by State in a Filtered DataFrame"
   ]
  },
  {
   "cell_type": "markdown",
   "id": "a8d8ee87",
   "metadata": {},
   "source": [
    "Use DataFrame named df_south, which contains properties located in the \"South\" region. Your task is to use the value_counts method to count the number of properties present in each state within this region. The result will be stored in a Series named homes_by_state. Through this activity, you'll gain practical experience in data aggregation, a key technique in data analysis for summarizing and extracting insights from data."
   ]
  },
  {
   "cell_type": "code",
   "execution_count": null,
   "id": "a5d0200b",
   "metadata": {},
   "outputs": [],
   "source": [
    "# Count the number of properties by state in the 'South' region.\n",
    "homes_by_state = df_south['state'].value_counts()\n",
    "\n",
    "# Display the number of properties by state.\n",
    "homes_by_state"
   ]
  },
  {
   "cell_type": "code",
   "execution_count": null,
   "id": "e7e5d6fa",
   "metadata": {},
   "outputs": [],
   "source": []
  },
  {
   "cell_type": "markdown",
   "id": "a293b536",
   "metadata": {},
   "source": [
    "Activity 18. Visualizing Price vs. Area in the State with Most Properties"
   ]
  },
  {
   "cell_type": "markdown",
   "id": "28fffedd",
   "metadata": {},
   "source": [
    "In this advanced data visualization activity, you will delve into create a scatter plot using Matplotlib. The focus of your analysis will be the properties in the \"South\" region, specifically within the state that has the largest number of properties in the DataFrame df_south. Your scatter plot will compare the price and area of these properties.\n",
    "\n",
    "You will:\n",
    "\n",
    "Identify the state in df_south with the highest number of properties.\n",
    "Plot each property's price against its area on a scatter plot.\n",
    "Label the x-axis as \"Area [sq meters]\" and the y-axis as \"Price [USD]\".\n",
    "Title your chart {name of state}: Price vs. Area\", replacing {name of state} with the actual state's name.\n",
    "This activity is designed to enhance your skills in data filtering, aggregation, and visualization, showcasing the relationship between two important property attributes: price and area. By the end of this activity, you'll be better equipped to analyze and visualize data distributions and relationships within specific subsets of a larger dataset.\n"
   ]
  },
  {
   "cell_type": "code",
   "execution_count": null,
   "id": "7f6dd3c3",
   "metadata": {},
   "outputs": [],
   "source": [
    "# Identify the state with the most properties in the 'South' region.\n",
    "state_with_most_properties = homes_by_state.idxmax()\n",
    "\n",
    "# Filter the data to include only properties in the state with the most properties.\n",
    "df_state = df_south[df_south['state'] == state_with_most_properties]\n",
    "\n",
    "# Set the figure size for the plot.\n",
    "fig, ax = plt.subplots(figsize=(10, 6))\n",
    "\n",
    "# Create a scatter plot of price vs. area for the state with the most properties.\n",
    "ax.scatter(df_state['area_m2'], df_state['price_usd'])\n",
    "\n",
    "# Add labels and title to the plot.\n",
    "ax.set_xlabel('Area [sq meters]')\n",
    "ax.set_ylabel('Price [USD]')\n",
    "ax.set_title(f'{state_with_most_properties}: Price vs. Area')\n"
   ]
  },
  {
   "cell_type": "code",
   "execution_count": null,
   "id": "da2ce74a",
   "metadata": {},
   "outputs": [],
   "source": []
  },
  {
   "cell_type": "code",
   "execution_count": null,
   "id": "20eaf276",
   "metadata": {},
   "outputs": [],
   "source": [
    "Activity 19. Calculating Correlation Coefficients by State in the South Region"
   ]
  },
  {
   "cell_type": "markdown",
   "id": "c66f956c",
   "metadata": {},
   "source": [
    "In this data analysis activity, you'll explore the relationship between two significant property attributes: area and price within the \"South\" region of Brazil. Your objective is to calculate the correlation coefficient between \"area_m2\" (area in square meters) and \"price_usd\" (price in USD) for each of the three states in this region. This statistical measure will help you understand the strength and direction of the relationship between these two variables in different geographical areas.\n",
    "\n",
    "To accomplish this, you will create a dictionary named south_states_corr. The keys in this dictionary will be the names of the three states in the \"South\" region of Brazil, and the values will be the correlation coefficients representing the relationship between area and price within each state. This activity will not only improve your skills in data manipulation and analysis using Python but also provide insights into regional real estate trends in Brazil.\n",
    "\n",
    "As an example, here's a dictionary with the states and correlation coefficients for the Southeast region. Since you're looking at a different region, the states and coefficients will be different, but the structure of the dictionary will be the same."
   ]
  },
  {
   "cell_type": "code",
   "execution_count": null,
   "id": "9298bc71",
   "metadata": {},
   "outputs": [],
   "source": [
    "# Create an empty dictionary to store the correlation coefficients for each state in the 'South' region.\n",
    "south_states_corr = {}\n",
    "\n",
    "# Iterate over the states in the 'South' region.\n",
    "for state in df_south['state'].unique():\n",
    "    # Filter the data to include only properties in the current state.\n",
    "    df_state = df_south[df_south['state'] == state]\n",
    "\n",
    "    # Calculate the correlation coefficient between 'area_m2' and 'price_usd' for the current state.\n",
    "    corr = df_state['area_m2'].corr(df_state['price_usd'])\n",
    "\n",
    "    # Add the state and its correlation coefficient to the dictionary.\n",
    "    south_states_corr[state] = corr\n",
    "\n",
    "# Display the correlation coefficients by state in the 'South' region.\n",
    "south_states_corr\n"
   ]
  },
  {
   "cell_type": "code",
   "execution_count": null,
   "id": "e50b8035",
   "metadata": {},
   "outputs": [],
   "source": []
  }
 ],
 "metadata": {
  "kernelspec": {
   "display_name": "Python 3 (ipykernel)",
   "language": "python",
   "name": "python3"
  },
  "language_info": {
   "codemirror_mode": {
    "name": "ipython",
    "version": 3
   },
   "file_extension": ".py",
   "mimetype": "text/x-python",
   "name": "python",
   "nbconvert_exporter": "python",
   "pygments_lexer": "ipython3",
   "version": "3.11.7"
  }
 },
 "nbformat": 4,
 "nbformat_minor": 5
}
